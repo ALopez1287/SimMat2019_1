{
 "cells": [
  {
   "cell_type": "markdown",
   "metadata": {},
   "source": [
    "# **¿Qué es una simulación?**"
   ]
  },
  {
   "cell_type": "markdown",
   "metadata": {},
   "source": [
    "<img src=\"https://conceptodefinicion.de/wp-content/uploads/2015/03/simulador.jpg\" align=\"Center\" width=\"466px\" height=\"308px\">"
   ]
  },
  {
   "cell_type": "markdown",
   "metadata": {},
   "source": [
    ">**Simulación**: es el proceso de diseñar un modelo de un sistema real y llevar a cabo experiencias con él, con la finalidad de aprender el comportamiento del sistema o de evaluar diversas estrategias para el funcionamiento del sistema (Shannon, 1988).\n",
    " —Shannon R.E. (1988). \"Simulación de Sistemas. Diseño, desarrollo e implementación”. Trillas, México."
   ]
  },
  {
   "cell_type": "markdown",
   "metadata": {},
   "source": [
    "<div id=\"apDiv1\">\n",
    "<table width=\"100%\" border=\"0\">\n",
    "<tr>\n",
    "<td><img src=\"http://syse.com.co/wp-content/uploads/2017/09/diseno_final1.png\" align=\"left\"></td>\n",
    "<td><img src=\"http://www.prontubeam.com/articulos/10_2015_mito_caverna_ing_estruct/10_2015_mito_caverna_archivos/prontubeam.jpg\" align=\"left\"></td>\n",
    "<td><img src=\"https://haganegocios.com/wp-content/uploads/2010/03/acciones.jpg\" align=\"left\"></td>\n",
    "</tr>\n",
    "</table>\n",
    "</div>\n",
    "\n"
   ]
  },
  {
   "attachments": {},
   "cell_type": "markdown",
   "metadata": {},
   "source": [
    "\n",
    "\n",
    ">**Sistema**: Conjunto de objetos o ideas que están interrelacionados entre sí como una unidad para la consecución de un fin (Shannon, 1988).\n",
    "\n",
    "<img src=\"https://image.slidesharecdn.com/sistemasdeinformacin-090908160107-phpapp01/95/sistemas-de-informacin-empresarial-20-728.jpg?cb=1252444968\" align=\"Center\" width=\"466px\" height=\"308px\">"
   ]
  },
  {
   "cell_type": "markdown",
   "metadata": {},
   "source": [
    ">**Modelo**: Un objeto X es un modelo del objeto Y para el observador Z, si Z puede emplear X para responder cuestiones que le interesan acerca de Y. Una representación abstracta, conceptual, gráfica o visual, física de fenómenos, sistemas o procesos a fin de analizar, describir, explicar, simular.\n",
    "\n",
    "\n",
    " - Modelos físicos.\n",
    "<img src=\"https://http2.mlstatic.com/maqueta-estadios-boca-junior-armada-cluz-led-la-bombonera-D_NQ_NP_977189-MLA26023801705_092017-F.jpg\" align=\"Center\" width=\"466px\" height=\"308px\">\n",
    " \n",
    " - Modelos matemáticos\n",
    " \n",
    "       - Modelos deterministas\n",
    "   <img src=\"http://gravedad.net/wp-content/uploads/2018/04/ley-de-la-gravitacion-universal.jpeg\" align=\"Center\" width=\"466px\" height=\"308px\">\n",
    "   \n",
    "       - Modelos estocásticos y probabilísticos\n",
    "   <img src=\"https://upload.wikimedia.org/wikipedia/commons/thumb/2/2b/GeoBM.png/1024px-GeoBM.png\" align=\"Center\" width=\"466px\" height=\"308px\">\n",
    "   \n",
    "\n",
    "       - Modelos numéricos\n",
    "   <img src=\"http://tananyag.geomatech.hu/files/00/00/12/03/material-120361.png?v=1495756863\" align=\"Center\" width=\"466px\" height=\"308px\">  \n",
    "   \n",
    "   \n",
    " - Modelos gráficos\n",
    " \n",
    "    <img src=\"http://1.bp.blogspot.com/-6teXe6AxtG0/VcpFX82GKsI/AAAAAAAAAGw/703D_yhG23s/s1600/33.gif\" align=\"Center\" width=\"466px\" height=\"308px\"> \n",
    " \n",
    " - Modelos análogos\n",
    " \n",
    "     <img src=\"https://encrypted-tbn0.gstatic.com/images?q=tbn:ANd9GcSrRY4AgES5gxHBEse_NAuuvz-58M5YS0gwRIIFjezNM7XcFwzW\" align=\"Center\" width=\"349px\" height=\"260px\">\n",
    "\n",
    " \n",
    " - Modelos conceptuales\n",
    " \n",
    "    <img src=\"https://www.tplaboratorioquimico.com/wp-content/uploads/2014/12/Modelo_rutherford-1.jpg\" align=\"Center\" width=\"466px\" height=\"308px\">  \n",
    " \n"
   ]
  },
  {
   "cell_type": "markdown",
   "metadata": {},
   "source": [
    "**¿Porqué hacer simulación?**\n",
    "- Cuando no existe una formulación matemática analíticamente resoluble.\n",
    "- Es difícil obtener una solución analítica.\n",
    "- No existe el sistema real.\n",
    "- Los experimentos son dificiles debido a impedimentos económicos, de seguridad, de calidad o éticos. \n",
    "- Para evaluar diferentes soluciones.\n",
    "- El sistema evoluciona muy lentamente o muy rápidamente.\n",
    "- Se puede determinar el impacto potencial de eventos aleatorios.\n",
    "- Evaluar si ciertos procesos son viables."
   ]
  },
  {
   "cell_type": "markdown",
   "metadata": {},
   "source": [
    "**Aplicaciones:**\n",
    "- Procesos de manufacturas\n",
    "- Investigación\n",
    "- Plantas industriales\n",
    "- Construcción\n",
    "- Capacitación\n",
    "- Diseño"
   ]
  },
  {
   "cell_type": "markdown",
   "metadata": {},
   "source": [
    "## Herramientas computacionales"
   ]
  },
  {
   "cell_type": "markdown",
   "metadata": {},
   "source": [
    " <div>\n",
    "<img style=\"float: left; margin: 0px 0px 15px 15px;\" src=\"https://www.python.org/static/community_logos/python-logo.png\" width=\"200px\" height=\"200px\" alt=\"atom\" />\n",
    "<img style=\"float: left; margin: 0px 0px 15px 15px;\" src=\"https://upload.wikimedia.org/wikipedia/en/c/cd/Anaconda_Logo.png\" width=\"120\" />\n",
    "<img style=\"float: left; margin: 0px 0px 15px 15px;\" src=\"http://jupyter.org/assets/main-logo.svg\" width=\"80\" />\n"
   ]
  },
  {
   "cell_type": "markdown",
   "metadata": {},
   "source": [
    "¿Porqué Python?\n",
    "- https://www.economist.com/graphic-detail/2018/07/26/python-is-becoming-the-worlds-most-popular-coding-language\n",
    "- https://www.economist.com/science-and-technology/2018/07/19/python-has-brought-computer-programming-to-a-vast-new-audience\n",
    "- https://www.thehansindia.com/posts/index/Tech-News/2019-01-11/Python-is-the-programming-language-of-the-year-for-2018/473575\n",
    "- https://www.zdnet.com/article/programming-language-of-the-year-python-is-standout-in-latest-rankings/\n",
    "- https://www.unocero.com/software/python-el-lenguaje-de-programacion-del-2018/\n",
    "- https://www.neoteo.com/python-lenguaje-de-programacion-mas-relevante/\n",
    "- https://www.kippel01.com/360/python-el-rey-de-los-lenguajes-de-programacion-en-todo-el-mundo.html"
   ]
  },
  {
   "cell_type": "markdown",
   "metadata": {},
   "source": [
    "## Herramientas adicionales"
   ]
  },
  {
   "cell_type": "markdown",
   "metadata": {},
   "source": [
    "- [git](https://git-scm.com)\n",
    "- [GitHub](https://github.com)"
   ]
  },
  {
   "cell_type": "markdown",
   "metadata": {},
   "source": [
    "### Encabezado\n",
    "- **1**\n",
    "    - *1.1*\n",
    "    - *1.2*\n",
    "- **2**\n",
    "    - *2.1*\n",
    "    - *2.2*\n",
    "    \n",
    "https://markdown.es/sintaxis-markdown/#enfasis    "
   ]
  },
  {
   "cell_type": "markdown",
   "metadata": {},
   "source": [
    "### jupyter notebook"
   ]
  },
  {
   "cell_type": "markdown",
   "metadata": {},
   "source": [
    "- Aprender a usar el jupyter notebook\n",
    "   - Los notebooks tienen celdas de entrada y generalmente celdas de salida, así como celdas de texto. Las celdas de texto es lo que estas leyendo ahora. Las celdas de código inician con \"In []:\" con algún numero en los brackets. Si te colocas sobre una salda de entrada y presionas Shift-Enter, el código correrá en el ** interprete ** de python y el resultado se imprimirá en la celda de salida. "
   ]
  },
  {
   "cell_type": "markdown",
   "metadata": {},
   "source": [
    "**Trabajando con el notebook de jupyter**"
   ]
  },
  {
   "cell_type": "markdown",
   "metadata": {},
   "source": [
    "Además de poder realizar progrmación, tiene otras ventajas. Como ya se dieron cuenta toda esta presentación esta hecha con el notebook. Además de eso, también se puede incluir directamente dentro de este documento, código <font color=\"blue\"> HTML </font>. \n",
    "\n",
    "Uno de los atractivos más relevantes (personalmente) es que puedes escribir ecuaciones estilo $\\LaTeX$, esto es gracias al proyecto [MathJax](https://www.mathjax.org) el cual se especializa en que podamos publicar matemáticas en línea. A continuación, se muestra una ejemplo. "
   ]
  },
  {
   "cell_type": "markdown",
   "metadata": {},
   "source": [
    "___\n",
    ">Ecuaciones de Maxwell:\n",
    ">$$\\nabla\\cdot \\mathbf{D}=\\rho\\quad \\nabla\\cdot \\mathbf{B}=0\\quad \\nabla\\times \\mathbf{E}=-\\frac{\\partial \\mathbf{B}}{\\partial t}\\quad \\nabla\\times \\mathbf{H} = \\mathbf{J} +\\frac{\\partial \\mathbf{D}}{\\partial t}$$\n",
    "\n",
    "___"
   ]
  },
  {
   "cell_type": "markdown",
   "metadata": {},
   "source": [
    "___\n",
    ">Ecuación de Bernoulli:\n",
    ">$$P_1+\\frac{1}{2}\\rho v_1^2+\\rho g h_1=P_2+\\frac{1}{2}\\rho v_2^2+\\rho g h_2,$$\n",
    ">donde:\n",
    ">- $P_1$, $v_1$ y $h_1$ es la presión, la velocidad y la altura en el punto 1,\n",
    ">- $P_2$, $v_2$ y $h_2$ es la presión, la velocidad y la altura en el punto 2,\n",
    ">- $\\rho$ es la densidad del fluido, y\n",
    ">- $g$ es la aceleración de gravedad.\n"
   ]
  },
  {
   "cell_type": "markdown",
   "metadata": {},
   "source": [
    "___\n",
    ">Capitalización por *interés compuesto*:\n",
    ">$$C_k=C_0(1+i)^k,$$\n",
    ">donde:\n",
    ">- $C_k$ es el capital al final del $k$-ésimo periodo,\n",
    ">- $C_0$ es el capital inicial,\n",
    ">- $i$ es la tasa de interés pactada, y\n",
    ">- $k$ es el número de periodos.\n",
    "\n"
   ]
  },
  {
   "cell_type": "markdown",
   "metadata": {},
   "source": [
    "#### Archivos de python (script)\n",
    "- Estos son simplemente archivos de texto con la extensión .py\n",
    "- Cada linea en el archivo es una declaración de código en python, o parte del código. "
   ]
  },
  {
   "cell_type": "markdown",
   "metadata": {},
   "source": [
    "> **Actividad:** <font color = blue>** Realizar una presentación personal haciendo uso de la sintaxis `Markdown`. En ella deben incluir un resumen de uno de los artículos sobre Python** </font> \n",
    "\n"
   ]
  },
  {
   "cell_type": "markdown",
   "metadata": {},
   "source": [
    "<script>\n",
    "  $(document).ready(function(){\n",
    "    $('div.prompt').hide();\n",
    "    $('div.back-to-top').hide();\n",
    "    $('nav#menubar').hide();\n",
    "    $('.breadcrumb').hide();\n",
    "    $('.hidden-print').hide();\n",
    "  });\n",
    "</script>\n",
    "\n",
    "<footer id=\"attribution\" style=\"float:right; color:#808080; background:#fff;\">\n",
    "Created with Jupyter by Esteban Jiménez Rodríguez.\n",
    "</footer>"
   ]
  }
 ],
 "metadata": {
  "anaconda-cloud": {},
  "kernelspec": {
   "display_name": "Python 3",
   "language": "python",
   "name": "python3"
  },
  "language_info": {
   "codemirror_mode": {
    "name": "ipython",
    "version": 3
   },
   "file_extension": ".py",
   "mimetype": "text/x-python",
   "name": "python",
   "nbconvert_exporter": "python",
   "pygments_lexer": "ipython3",
   "version": "3.7.0"
  }
 },
 "nbformat": 4,
 "nbformat_minor": 1
}
